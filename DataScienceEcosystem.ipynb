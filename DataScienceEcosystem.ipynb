{
 "cells": [
  {
   "cell_type": "markdown",
   "id": "6c961652-86e1-4581-ab4e-bb5dd99b605e",
   "metadata": {},
   "source": [
    "# Data Science Tools and Ecosystem"
   ]
  },
  {
   "cell_type": "markdown",
   "id": "db468a15-0a90-4b8c-8baf-10e9f8a4bfde",
   "metadata": {},
   "source": [
    "In this notebook, Data Science Tools and Ecosystem are summarized."
   ]
  },
  {
   "cell_type": "markdown",
   "id": "5403bdf2-42e9-4b5b-baa5-819f0af6725a",
   "metadata": {},
   "source": [
    "Some of the popular languages that Data Scientists use are:  \n",
    "\n",
    "1. Python  \n",
    "2. R  \n",
    "3. SQL  \n",
    "4. Julia  \n",
    "5. Scala  "
   ]
  },
  {
   "cell_type": "markdown",
   "id": "6b6a7dfe-fe42-4292-9885-5b96d0eb5870",
   "metadata": {},
   "source": [
    "Some of the commonly used libraries used by Data Scientists include:  \n",
    "\n",
    "1. Pandas  \n",
    "2. NumPy  \n",
    "3. Scikit-learn  \n",
    "4. TensorFlow  \n",
    "5. Matplotlib  \n"
   ]
  },
  {
   "cell_type": "markdown",
   "id": "759bbf01-6f09-4489-b564-bbbecae8c96f",
   "metadata": {},
   "source": [
    "| Data Science Tools |\n",
    "|--------------------|\n",
    "| Jupyter Notebook  |\n",
    "| RStudio           |\n",
    "| Apache Zeppelin   |\n"
   ]
  },
  {
   "cell_type": "markdown",
   "id": "58d0a332-0f46-4a95-884b-c17c6791e361",
   "metadata": {},
   "source": [
    "### Below are a few examples of evaluating arithmetic expressions in Python.\n"
   ]
  },
  {
   "cell_type": "code",
   "execution_count": 1,
   "id": "b0786853-6f94-4d09-babf-4b1aee31bd61",
   "metadata": {},
   "outputs": [
    {
     "data": {
      "text/plain": [
       "17"
      ]
     },
     "execution_count": 1,
     "metadata": {},
     "output_type": "execute_result"
    }
   ],
   "source": [
    "# This a simple arithmetic expression to multiply then add integers.\n",
    "(3 * 4) + 5\n"
   ]
  },
  {
   "cell_type": "code",
   "execution_count": 4,
   "id": "3cca1043-5df2-4705-9077-ae7803768aff",
   "metadata": {},
   "outputs": [
    {
     "name": "stdout",
     "output_type": "stream",
     "text": [
      "200 minutes are 3.3333333333333335 hours\n"
     ]
    }
   ],
   "source": [
    "# This will convert 200 minutes to hours by dividing by 60.\n",
    "result = 200 / 60\n",
    "print(f\"200 minutes are {result} hours\")"
   ]
  },
  {
   "cell_type": "markdown",
   "id": "e11f2087-e35c-4cb3-af93-072b561cb588",
   "metadata": {},
   "source": [
    "**Objectives:**\n",
    "- List popular languages for Data Science  \n",
    "- Identify commonly used libraries in Data Science  \n",
    "- Describe Data Science tools and environments  \n",
    "- Perform basic arithmetic operations in Python  \n"
   ]
  },
  {
   "cell_type": "markdown",
   "id": "ba71d341-55c7-4fad-b1be-d93dd3ac1ba9",
   "metadata": {},
   "source": [
    "## Author  \n",
    "Michelangelo \n"
   ]
  },
  {
   "cell_type": "code",
   "execution_count": null,
   "id": "2a6f7f40-9556-40e0-a18c-a7b5cfa48876",
   "metadata": {},
   "outputs": [],
   "source": []
  }
 ],
 "metadata": {
  "kernelspec": {
   "display_name": "Python 3 (ipykernel)",
   "language": "python",
   "name": "python3"
  },
  "language_info": {
   "codemirror_mode": {
    "name": "ipython",
    "version": 3
   },
   "file_extension": ".py",
   "mimetype": "text/x-python",
   "name": "python",
   "nbconvert_exporter": "python",
   "pygments_lexer": "ipython3",
   "version": "3.12.8"
  }
 },
 "nbformat": 4,
 "nbformat_minor": 5
}
